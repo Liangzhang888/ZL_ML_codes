{
 "cells": [
  {
   "cell_type": "code",
   "execution_count": 7,
   "metadata": {},
   "outputs": [
    {
     "data": {
      "text/plain": [
       "['E FP1-Ref',\n",
       " 'E FP2-Ref',\n",
       " 'E F3-Ref',\n",
       " 'E F4-Ref',\n",
       " 'E C3-Ref',\n",
       " 'E C4-Ref',\n",
       " 'E P3-Ref',\n",
       " 'E P4-Ref',\n",
       " 'E O1-Ref',\n",
       " 'E O2-Ref',\n",
       " 'E F7-Ref',\n",
       " 'E F8-Ref',\n",
       " 'E T7-Ref',\n",
       " 'E T8-Ref',\n",
       " 'E P7-Ref',\n",
       " 'E P8-Ref',\n",
       " 'E P9-Ref',\n",
       " 'E P10-Ref',\n",
       " 'E Fz-Ref',\n",
       " 'E Cz-Ref',\n",
       " 'E Pz-Ref',\n",
       " 'E F9-Ref',\n",
       " 'E F10-Ref',\n",
       " 'E T9-Ref',\n",
       " 'E T10-Ref',\n",
       " 'P EKG']"
      ]
     },
     "execution_count": 7,
     "metadata": {},
     "output_type": "execute_result"
    }
   ],
   "source": [
    "import mne  \n",
    "edf_file_path = \"/data/zhangliang/dyrad/dryad/S49.edf\"\n",
    "edf_raw = mne.io.read_raw_edf(edf_file_path, preload=True,verbose= False)\n",
    "edf_raw.info['ch_names']"
   ]
  },
  {
   "cell_type": "markdown",
   "metadata": {},
   "source": [
    "ch_names =['EEG FP1-REF',\n",
    " 'EEG FP2-REF',\n",
    " 'EEG F3-REF',\n",
    " 'EEG F4-REF',\n",
    " 'EEG C3-REF',\n",
    " 'EEG C4-REF',\n",
    " 'EEG P3-REF',\n",
    " 'EEG P4-REF',\n",
    " 'EEG O1-REF',\n",
    " 'EEG O2-REF',\n",
    " 'EEG F7-REF',\n",
    " 'EEG F8-REF',\n",
    " 'EEG T3-REF', # 没有 T7\n",
    " 'EEG T4-REF', # 没有 T8\n",
    " 'EEG T5-REF',\n",
    " 'EEG T6-REF',\n",
    " 'EEG A1-REF',\n",
    " 'EEG A2-REF',\n",
    " 'EEG FZ-REF',\n",
    " 'EEG CZ-REF',\n",
    " 'EEG PZ-REF',\n",
    " 'EEG ROC-REF',\n",
    " 'EEG LOC-REF',\n",
    " 'EEG EKG1-REF',\n",
    " 'EEG T1-REF',\n",
    " 'EEG T2-REF',\n",
    " 'PHOTIC-REF']\n",
    "print(len(ch_names))"
   ]
  },
  {
   "cell_type": "code",
   "execution_count": 8,
   "metadata": {},
   "outputs": [
    {
     "data": {
      "text/plain": [
       "{'E FP1-Ref': 'Fp1',\n",
       " 'E FP2-Ref': 'Fp2',\n",
       " 'E F3-Ref': 'F3',\n",
       " 'E F4-Ref': 'F4',\n",
       " 'E C3-Ref': 'C3',\n",
       " 'E C4-Ref': 'C4',\n",
       " 'E P3-Ref': 'P3',\n",
       " 'E P4-Ref': 'P4',\n",
       " 'E O1-Ref': 'O1',\n",
       " 'E O2-Ref': 'O2',\n",
       " 'E F7-Ref': 'F7',\n",
       " 'E F8-Ref': 'F8',\n",
       " 'E T7-Ref': 'T7',\n",
       " 'E T8-Ref': 'T8',\n",
       " 'E P7-Ref': 'P7',\n",
       " 'E P8-Ref': 'P8',\n",
       " 'E P9-Ref': 'P9',\n",
       " 'E P10-Ref': 'P10',\n",
       " 'E Fz-Ref': 'Fz',\n",
       " 'E Cz-Ref': 'Cz',\n",
       " 'E Pz-Ref': 'Pz',\n",
       " 'E F9-Ref': 'F9',\n",
       " 'E F10-Ref': 'F10',\n",
       " 'E T9-Ref': 'T9',\n",
       " 'E T10-Ref': 'T10',\n",
       " 'P EKG': 'EKG'}"
      ]
     },
     "execution_count": 8,
     "metadata": {},
     "output_type": "execute_result"
    }
   ],
   "source": [
    "rename_channels =[\n",
    "            'Fp1',\n",
    "            'Fp2',\n",
    "            'F3',\n",
    "            'F4',\n",
    "            'C3',\n",
    "            'C4',\n",
    "            'P3',\n",
    "            'P4',\n",
    "            'O1',\n",
    "            'O2',\n",
    "            'F7',\n",
    "            'F8',\n",
    "            'T7',\n",
    "            'T8',\n",
    "            'P7',\n",
    "            'P8',\n",
    "            'P9',\n",
    "            'P10',\n",
    "            'Fz',\n",
    "            'Cz',\n",
    "            'Pz',\n",
    "            'F9',\n",
    "            'F10',\n",
    "            'T9',\n",
    "            'T10',\n",
    "            'EKG'\n",
    "]\n",
    "rename_dict = dict(zip(edf_raw.info['ch_names'], rename_channels))\n",
    "rename_dict"
   ]
  },
  {
   "cell_type": "code",
   "execution_count": 9,
   "metadata": {},
   "outputs": [
    {
     "name": "stdout",
     "output_type": "stream",
     "text": [
      "['Fp1', 'Fp2', 'F3', 'F4', 'C3', 'C4', 'P3', 'P4', 'O1', 'O2', 'F7', 'F8', 'T7', 'T8', 'P7', 'P8', 'P9', 'P10', 'Fz', 'Cz', 'Pz', 'F9', 'F10', 'T9', 'T10', 'EKG']\n"
     ]
    },
    {
     "data": {
      "text/plain": [
       "<Annotations | 2 segments: Marker: Annotation (1), Marker: Review Progress (1)>"
      ]
     },
     "execution_count": 9,
     "metadata": {},
     "output_type": "execute_result"
    }
   ],
   "source": [
    "edf_raw.rename_channels(rename_dict)\n",
    "print(edf_raw.info['ch_names'])\n",
    "edf_raw.annotations"
   ]
  },
  {
   "cell_type": "code",
   "execution_count": null,
   "metadata": {},
   "outputs": [],
   "source": [
    "pick_channels = [\n",
    "            'Fp1',\n",
    "            'Fp2',\n",
    "            'F3',\n",
    "            'F4',\n",
    "            'C3',\n",
    "            'C4',\n",
    "            'P3',\n",
    "            'P4',\n",
    "            'O1',\n",
    "            'O2',\n",
    "            'F7',\n",
    "            'F8',\n",
    "            'T3',\n",
    "            'T4',\n",
    "            'T5',\n",
    "            'T6',\n",
    "            'Fz',\n",
    "            'Cz',\n",
    "            'Pz']"
   ]
  }
 ],
 "metadata": {
  "kernelspec": {
   "display_name": "zlpy_37",
   "language": "python",
   "name": "python3"
  },
  "language_info": {
   "codemirror_mode": {
    "name": "ipython",
    "version": 3
   },
   "file_extension": ".py",
   "mimetype": "text/x-python",
   "name": "python",
   "nbconvert_exporter": "python",
   "pygments_lexer": "ipython3",
   "version": "3.7.16"
  }
 },
 "nbformat": 4,
 "nbformat_minor": 2
}
