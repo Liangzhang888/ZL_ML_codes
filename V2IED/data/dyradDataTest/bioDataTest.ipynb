{
 "cells": [
  {
   "cell_type": "code",
   "execution_count": 8,
   "metadata": {},
   "outputs": [],
   "source": [
    "import mne \n",
    "neg_edf_path = \"/data/zhangliang/datasets/dryad/S02.edf\"\n",
    "pos_edf_path = \"/data/zhangliang/datasets/dryad/S05.edf\"\n",
    "neg_data = mne.io.read_raw_edf(neg_edf_path,preload=True,verbose=False)\n",
    "pos_data = mne.io.read_raw_edf(pos_edf_path, preload=True,verbose=False)"
   ]
  },
  {
   "cell_type": "code",
   "execution_count": 9,
   "metadata": {},
   "outputs": [],
   "source": [
    "events = mne.events_from_annotations(neg_data, verbose=False)"
   ]
  },
  {
   "cell_type": "code",
   "execution_count": 10,
   "metadata": {},
   "outputs": [
    {
     "data": {
      "text/plain": [
       "(array([[   0,    0,    2],\n",
       "        [2938,    0,    1]]),\n",
       " {'Marker: Annotation': 1, 'Marker: Review Progress': 2})"
      ]
     },
     "execution_count": 10,
     "metadata": {},
     "output_type": "execute_result"
    }
   ],
   "source": [
    "events"
   ]
  },
  {
   "cell_type": "code",
   "execution_count": 16,
   "metadata": {},
   "outputs": [
    {
     "data": {
      "text/plain": [
       "2629"
      ]
     },
     "execution_count": 16,
     "metadata": {},
     "output_type": "execute_result"
    }
   ],
   "source": [
    "events[0][1][0]"
   ]
  },
  {
   "cell_type": "code",
   "execution_count": null,
   "metadata": {},
   "outputs": [],
   "source": []
  },
  {
   "cell_type": "code",
   "execution_count": 5,
   "metadata": {},
   "outputs": [],
   "source": [
    "import pandas as pd \n",
    "xlsx_path = \"/data/zhangliang/datasets/dryad/Demographics_&_gold_standard.xlsx\"\n",
    "data = pd.read_excel(xlsx_path,usecols=[\"Samples\",\"Gold Standard\",])"
   ]
  },
  {
   "cell_type": "code",
   "execution_count": 6,
   "metadata": {},
   "outputs": [
    {
     "name": "stdout",
     "output_type": "stream",
     "text": [
      "['S01.edf', 'S02.edf', 'S03.edf', 'S04.edf', 'S05.edf', 'S06.edf', 'S07.edf', 'S08.edf', 'S09.edf', 'S10.edf', 'S100.edf', 'S11.edf', 'S12.edf', 'S13.edf', 'S14.edf', 'S15.edf', 'S16.edf', 'S17.edf', 'S18.edf', 'S19.edf', 'S20.edf', 'S21.edf', 'S22.edf', 'S23.edf', 'S24.edf', 'S25.edf', 'S26.edf', 'S27.edf', 'S28.edf', 'S29.edf', 'S30.edf', 'S31.edf', 'S32.edf', 'S33.edf', 'S34.edf', 'S35.edf', 'S36.edf', 'S37.edf', 'S38.edf', 'S39.edf', 'S40.edf', 'S41.edf', 'S42.edf', 'S43.edf', 'S44.edf', 'S45.edf', 'S46.edf', 'S47.edf', 'S48.edf', 'S49.edf', 'S50.edf', 'S51.edf', 'S52.edf', 'S53.edf', 'S54.edf', 'S55.edf', 'S56.edf', 'S57.edf', 'S58.edf', 'S59.edf', 'S60.edf', 'S61.edf', 'S62.edf', 'S63.edf', 'S64.edf', 'S65.edf', 'S66.edf', 'S67.edf', 'S68.edf', 'S69.edf', 'S70.edf', 'S71.edf', 'S72.edf', 'S73.edf', 'S74.edf', 'S75.edf', 'S76.edf', 'S77.edf', 'S78.edf', 'S79.edf', 'S80-.edf', 'S81.edf', 'S82.edf', 'S83.edf', 'S84.edf', 'S85.edf', 'S86.edf', 'S87.edf', 'S88.edf', 'S89.edf', 'S90.edf', 'S91.edf', 'S92.edf', 'S93.edf', 'S94.edf', 'S95.edf', 'S96.edf', 'S97.edf', 'S98.edf', 'S99.edf']\n"
     ]
    }
   ],
   "source": [
    "import os \n",
    "import mne \n",
    "path = \"/data/zhangliang/datasets/dryad/\"\n",
    "edf_files = []\n",
    "for file in os.listdir(path):\n",
    "    if file.endswith(\".edf\"):\n",
    "        edf_files.append(file)\n",
    "edf_files.sort()\n",
    "print(edf_files)"
   ]
  },
  {
   "cell_type": "code",
   "execution_count": 7,
   "metadata": {},
   "outputs": [
    {
     "name": "stdout",
     "output_type": "stream",
     "text": [
      "{'S01.edf': [6.608, 0], 'S02.edf': [0.0, 1], 'S03.edf': [0.0, 1], 'S04.edf': [5.258, 0], 'S05.edf': [0.0, 1], 'S06.edf': [0.0, 0], 'S07.edf': [0.0, 1], 'S08.edf': [0.0, 1], 'S09.edf': [0.0, 1], 'S10.edf': [6.25, 0], 'S100.edf': [0.0, 1], 'S11.edf': [0.0, 0], 'S12.edf': [0.0, 1], 'S13.edf': [0.0, 1], 'S14.edf': [0.0, 0], 'S15.edf': [0.0, 1], 'S16.edf': [0.0, 0], 'S17.edf': [0.0, 1], 'S18.edf': [0.0, 1], 'S19.edf': [0.0, 0], 'S20.edf': [0.0, 1], 'S21.edf': [6.216, 0], 'S22.edf': [0.0, 1], 'S23.edf': [0.0, 0], 'S24.edf': [0.0, 0], 'S25.edf': [0.0, 1], 'S26.edf': [0.0, 1], 'S27.edf': [0.0, 0], 'S28.edf': [5.916, 1], 'S29.edf': [0.0, 1], 'S30.edf': [0.0, 1], 'S31.edf': [0.0, 0], 'S32.edf': [0.0, 1], 'S33.edf': [0.0, 0], 'S34.edf': [0.0, 0], 'S35.edf': [0.0, 1], 'S36.edf': [0.0, 1], 'S37.edf': [0.0, 0], 'S38.edf': [0.0, 1], 'S39.edf': [0.0, 0], 'S40.edf': [0.0, 1], 'S41.edf': [0.0, 1], 'S42.edf': [0.0, 0], 'S43.edf': [0.0, 1], 'S44.edf': [0.0, 1], 'S45.edf': [0.0, 1], 'S46.edf': [0.0, 1], 'S47.edf': [0.0, 0], 'S48.edf': [0.0, 0], 'S49.edf': [0.0, 1], 'S50.edf': [0.0, 0], 'S51.edf': [0.0, 1], 'S52.edf': [0.0, 1], 'S53.edf': [0.0, 0], 'S54.edf': [0.0, 1], 'S55.edf': [0.0, 1], 'S56.edf': [0.0, 0], 'S57.edf': [0.0, 1], 'S58.edf': [0.0, 0], 'S59.edf': [0.0, 1], 'S60.edf': [0.0, 0], 'S61.edf': [0.0, 1], 'S62.edf': [0.0, 0], 'S63.edf': [0.0, 0], 'S64.edf': [0.0, 1], 'S65.edf': [0.0, 0], 'S66.edf': [0.0, 1], 'S67.edf': [0.0, 0], 'S68.edf': [5.594, 1], 'S69.edf': [0.0, 1], 'S70.edf': [0.0, 0], 'S71.edf': [0.0, 1], 'S72.edf': [0.0, 0], 'S73.edf': [0.0, 0], 'S74.edf': [0.0, 1], 'S75.edf': [0.0, 1], 'S76.edf': [0.0, 0], 'S77.edf': [0.0, 0], 'S78.edf': [0.0, 1], 'S79.edf': [0.0, 0], 'S80-.edf': [0.0, 0], 'S81.edf': [0.0, 1], 'S82.edf': [0.0, 0], 'S83.edf': [0.0, 0], 'S84.edf': [0.0, 0], 'S85.edf': [0.0, 1], 'S86.edf': [0.0, 1], 'S87.edf': [0.0, 0], 'S88.edf': [0.0, 0], 'S89.edf': [0.0, 1], 'S90.edf': [0.0, 0], 'S91.edf': [0.0, 0], 'S92.edf': [0.0, 1], 'S93.edf': [0.0, 1], 'S94.edf': [0.0, 0], 'S95.edf': [0.0, 1], 'S96.edf': [0.0, 1], 'S97.edf': [0.0, 0], 'S98.edf': [0.0, 0], 'S99.edf': [0.0, 1]}\n"
     ]
    }
   ],
   "source": [
    "json_data = {}\n",
    "for i in range(len(edf_files)):\n",
    "    edf_path = os.path.join(path,edf_files[i])\n",
    "    edf_data = mne.io.read_raw_edf(edf_path,preload=True,verbose=False)\n",
    "    events = mne.events_from_annotations(edf_data, verbose=False)\n",
    "    time = events[0][1][0] / edf_data.info[\"sfreq\"]\n",
    "    \n",
    "    if data.iloc[i,1] == 'Non_Epileptic':\n",
    "        label = 0\n",
    "    elif data.iloc[i,1] == 'Epileptic':\n",
    "        label = 1\n",
    "    \n",
    "    json_data[edf_files[i]] = [time, label]\n",
    "print(json_data)\n",
    "    "
   ]
  },
  {
   "cell_type": "code",
   "execution_count": 46,
   "metadata": {},
   "outputs": [],
   "source": [
    "import json\n",
    "with open(os.path.join(path,\"file_info.json\"),'w') as f:\n",
    "    json.dump(json_data,f)"
   ]
  },
  {
   "cell_type": "code",
   "execution_count": 12,
   "metadata": {},
   "outputs": [
    {
     "name": "stdout",
     "output_type": "stream",
     "text": [
      "['/data/zhangliang/datasets/dryad/S21.edf', '/data/zhangliang/datasets/dryad/S63.edf', '/data/zhangliang/datasets/dryad/S53.edf', '/data/zhangliang/datasets/dryad/S24.edf', '/data/zhangliang/datasets/dryad/S64.edf', '/data/zhangliang/datasets/dryad/S67.edf', '/data/zhangliang/datasets/dryad/S15.edf', '/data/zhangliang/datasets/dryad/S01.edf', '/data/zhangliang/datasets/dryad/S72.edf', '/data/zhangliang/datasets/dryad/S42.edf', '/data/zhangliang/datasets/dryad/S68.edf', '/data/zhangliang/datasets/dryad/S88.edf', '/data/zhangliang/datasets/dryad/S100.edf', '/data/zhangliang/datasets/dryad/S81.edf', '/data/zhangliang/datasets/dryad/S97.edf', '/data/zhangliang/datasets/dryad/S31.edf', '/data/zhangliang/datasets/dryad/S91.edf', '/data/zhangliang/datasets/dryad/S89.edf', '/data/zhangliang/datasets/dryad/S82.edf', '/data/zhangliang/datasets/dryad/S43.edf', '/data/zhangliang/datasets/dryad/S36.edf', '/data/zhangliang/datasets/dryad/S52.edf', '/data/zhangliang/datasets/dryad/S90.edf', '/data/zhangliang/datasets/dryad/S93.edf', '/data/zhangliang/datasets/dryad/S34.edf', '/data/zhangliang/datasets/dryad/S25.edf', '/data/zhangliang/datasets/dryad/S28.edf', '/data/zhangliang/datasets/dryad/S08.edf', '/data/zhangliang/datasets/dryad/S59.edf', '/data/zhangliang/datasets/dryad/S41.edf', '/data/zhangliang/datasets/dryad/S96.edf', '/data/zhangliang/datasets/dryad/S98.edf', '/data/zhangliang/datasets/dryad/S76.edf', '/data/zhangliang/datasets/dryad/S13.edf', '/data/zhangliang/datasets/dryad/S51.edf', '/data/zhangliang/datasets/dryad/S60.edf', '/data/zhangliang/datasets/dryad/S84.edf', '/data/zhangliang/datasets/dryad/S85.edf', '/data/zhangliang/datasets/dryad/S14.edf', '/data/zhangliang/datasets/dryad/S86.edf', '/data/zhangliang/datasets/dryad/S23.edf', '/data/zhangliang/datasets/dryad/S77.edf', '/data/zhangliang/datasets/dryad/S79.edf', '/data/zhangliang/datasets/dryad/S05.edf', '/data/zhangliang/datasets/dryad/S47.edf', '/data/zhangliang/datasets/dryad/S48.edf', '/data/zhangliang/datasets/dryad/S04.edf', '/data/zhangliang/datasets/dryad/S92.edf', '/data/zhangliang/datasets/dryad/S69.edf', '/data/zhangliang/datasets/dryad/S57.edf', '/data/zhangliang/datasets/dryad/S66.edf', '/data/zhangliang/datasets/dryad/S78.edf', '/data/zhangliang/datasets/dryad/S06.edf', '/data/zhangliang/datasets/dryad/S95.edf', '/data/zhangliang/datasets/dryad/S50.edf', '/data/zhangliang/datasets/dryad/S40.edf', '/data/zhangliang/datasets/dryad/S11.edf', '/data/zhangliang/datasets/dryad/S61.edf', '/data/zhangliang/datasets/dryad/S09.edf', '/data/zhangliang/datasets/dryad/S18.edf', '/data/zhangliang/datasets/dryad/S45.edf', '/data/zhangliang/datasets/dryad/S99.edf', '/data/zhangliang/datasets/dryad/S33.edf', '/data/zhangliang/datasets/dryad/S03.edf', '/data/zhangliang/datasets/dryad/S56.edf', '/data/zhangliang/datasets/dryad/S58.edf', '/data/zhangliang/datasets/dryad/S49.edf', '/data/zhangliang/datasets/dryad/S26.edf', '/data/zhangliang/datasets/dryad/S75.edf', '/data/zhangliang/datasets/dryad/S44.edf', '/data/zhangliang/datasets/dryad/S73.edf', '/data/zhangliang/datasets/dryad/S87.edf', '/data/zhangliang/datasets/dryad/S83.edf', '/data/zhangliang/datasets/dryad/S27.edf', '/data/zhangliang/datasets/dryad/S39.edf', '/data/zhangliang/datasets/dryad/S46.edf', '/data/zhangliang/datasets/dryad/S65.edf', '/data/zhangliang/datasets/dryad/S54.edf', '/data/zhangliang/datasets/dryad/S32.edf', '/data/zhangliang/datasets/dryad/S37.edf', '/data/zhangliang/datasets/dryad/S02.edf', '/data/zhangliang/datasets/dryad/S55.edf', '/data/zhangliang/datasets/dryad/S17.edf', '/data/zhangliang/datasets/dryad/S10.edf', '/data/zhangliang/datasets/dryad/S20.edf', '/data/zhangliang/datasets/dryad/S35.edf', '/data/zhangliang/datasets/dryad/S22.edf', '/data/zhangliang/datasets/dryad/S12.edf', '/data/zhangliang/datasets/dryad/S74.edf', '/data/zhangliang/datasets/dryad/S29.edf', '/data/zhangliang/datasets/dryad/S94.edf', '/data/zhangliang/datasets/dryad/S30.edf', '/data/zhangliang/datasets/dryad/S62.edf', '/data/zhangliang/datasets/dryad/S19.edf', '/data/zhangliang/datasets/dryad/S70.edf', '/data/zhangliang/datasets/dryad/S07.edf', '/data/zhangliang/datasets/dryad/S71.edf', '/data/zhangliang/datasets/dryad/S16.edf', '/data/zhangliang/datasets/dryad/S80-.edf', '/data/zhangliang/datasets/dryad/S38.edf']\n"
     ]
    }
   ],
   "source": [
    "import os \n",
    "import mne \n",
    "raw_edf_floder = \"/data/zhangliang/datasets/dryad/\"\n",
    "edf_files = [] \n",
    "for file in os.listdir(raw_edf_floder):\n",
    "    if file.endswith(\".edf\"):\n",
    "        edf_files.append(os.path.join(raw_edf_floder, file))\n",
    "print(edf_files)"
   ]
  },
  {
   "cell_type": "code",
   "execution_count": 3,
   "metadata": {},
   "outputs": [
    {
     "name": "stdout",
     "output_type": "stream",
     "text": [
      "-6.811463891030541e-10 3.051790888205068e-05\n"
     ]
    }
   ],
   "source": [
    "mean = 0. \n",
    "std = 0.\n",
    "for edf_file in edf_files:\n",
    "    edf = mne.io.read_raw_edf(edf_file,preload=True,verbose=False)\n",
    "    edf = edf.filter(l_freq = 1., h_freq = 70.,verbose=False)\n",
    "    edf = edf.notch_filter(freqs = 50.,verbose=False)\n",
    "    data = edf.get_data()\n",
    "    mean += data.mean()\n",
    "    std += data.std()\n",
    "    # print(edf_file, data.mean(), data.std())\n",
    "mean /= len(edf_files)\n",
    "std /= len(edf_files)\n",
    "print(mean, std)"
   ]
  },
  {
   "cell_type": "code",
   "execution_count": 4,
   "metadata": {},
   "outputs": [
    {
     "name": "stdout",
     "output_type": "stream",
     "text": [
      "-6.844535909948967e-10 3.051790913893898e-05\n"
     ]
    }
   ],
   "source": [
    "mean = 0. \n",
    "std = 0.\n",
    "for edf_file in edf_files:\n",
    "    edf = mne.io.read_raw_edf(edf_file,preload=True,verbose=False)\n",
    "    edf = edf.filter(l_freq = 1., h_freq = 70.,verbose=False)\n",
    "    edf = edf.notch_filter(freqs = 50.,verbose=False)\n",
    "    edf = edf.resample(sfreq = 250.,verbose=False)\n",
    "    data = edf.get_data()\n",
    "    mean += data.mean()\n",
    "    std += data.std()\n",
    "    # print(edf_file, data.mean(), data.std())\n",
    "mean /= len(edf_files)\n",
    "std /= len(edf_files)\n",
    "print(mean, std)"
   ]
  },
  {
   "cell_type": "code",
   "execution_count": 15,
   "metadata": {},
   "outputs": [
    {
     "name": "stdout",
     "output_type": "stream",
     "text": [
      "/data/zhangliang/datasets/dryad/S42.edf 3 (array([[   0,    0,    3],\n",
      "       [3072,    0,    1],\n",
      "       [5985,    0,    2]]), {'Marker: Annotation': 1, 'Marker: Hawk_Cmd_Log': 2, 'Marker: Review Progress': 3})\n",
      "/data/zhangliang/datasets/dryad/S89.edf 3 (array([[   0,    0,    3],\n",
      "       [2951,    0,    1],\n",
      "       [5408,    0,    2]]), {'Marker: Annotation': 1, 'Marker: Hawk_Cmd_Log': 2, 'Marker: Review Progress': 3})\n",
      "/data/zhangliang/datasets/dryad/S48.edf 3 (array([[   0,    0,    3],\n",
      "       [3312,    0,    1],\n",
      "       [6432,    0,    2]]), {'Marker: Annotation': 1, 'Marker: Hawk_Cmd_Log': 2, 'Marker: Review Progress': 3})\n",
      "/data/zhangliang/datasets/dryad/S66.edf 3 (array([[   0,    0,    3],\n",
      "       [ 222,    0,    2],\n",
      "       [3147,    0,    1]]), {'Marker: Annotation': 1, 'Marker: Hawk_Cmd_Log': 2, 'Marker: Review Progress': 3})\n",
      "/data/zhangliang/datasets/dryad/S61.edf 3 (array([[   0,    0,    3],\n",
      "       [3240,    0,    1],\n",
      "       [5822,    0,    2]]), {'Marker: Annotation': 1, 'Marker: Hawk_Cmd_Log': 2, 'Marker: Review Progress': 3})\n",
      "/data/zhangliang/datasets/dryad/S45.edf 3 (array([[   0,    0,    3],\n",
      "       [3003,    0,    1],\n",
      "       [5602,    0,    2]]), {'Marker: Annotation': 1, 'Marker: Hawk_Cmd_Log': 2, 'Marker: Review Progress': 3})\n",
      "/data/zhangliang/datasets/dryad/S58.edf 3 (array([[   0,    0,    3],\n",
      "       [  73,    0,    2],\n",
      "       [3412,    0,    1]]), {'Marker: Annotation': 1, 'Marker: Prune': 2, 'Marker: Review Progress': 3})\n",
      "/data/zhangliang/datasets/dryad/S44.edf 3 (array([[   0,    0,    3],\n",
      "       [3378,    0,    1],\n",
      "       [6557,    0,    2]]), {'Marker: Annotation': 1, 'Marker: Hawk_Cmd_Log': 2, 'Marker: Review Progress': 3})\n",
      "/data/zhangliang/datasets/dryad/S73.edf 3 (array([[   0,    0,    3],\n",
      "       [3435,    0,    1],\n",
      "       [6478,    0,    2]]), {'Marker: Annotation': 1, 'Marker: Hawk_Cmd_Log': 2, 'Marker: Review Progress': 3})\n",
      "/data/zhangliang/datasets/dryad/S20.edf 3 (array([[   0,    0,    2],\n",
      "       [3073,    0,    1],\n",
      "       [6113,    0,    3]]), {'Marker: Annotation': 1, 'Marker: Exam Start': 2, 'Marker: Hawk_Cmd_Log': 3})\n",
      "/data/zhangliang/datasets/dryad/S94.edf 3 (array([[   0,    0,    3],\n",
      "       [3243,    0,    1],\n",
      "       [6302,    0,    2]]), {'Marker: Annotation': 1, 'Marker: Hawk_Cmd_Log': 2, 'Marker: Review Progress': 3})\n",
      "/data/zhangliang/datasets/dryad/S19.edf 3 (array([[   0,    0,    2],\n",
      "       [3273,    0,    1],\n",
      "       [5445,    0,    3]]), {'Marker: Annotation': 1, 'Marker: Exam Start': 2, 'Marker: Hawk_Cmd_Log': 3})\n"
     ]
    }
   ],
   "source": [
    "for edf_file in edf_files:\n",
    "    edf_data = mne.io.read_raw_edf(edf_file,preload=True,verbose=False)\n",
    "    events = mne.events_from_annotations(edf_data, verbose=False)\n",
    "    events_length = len(events[0])\n",
    "    if events_length != 2:\n",
    "        print(edf_file, events_length,events)"
   ]
  },
  {
   "cell_type": "code",
   "execution_count": 1,
   "metadata": {},
   "outputs": [
    {
     "name": "stdout",
     "output_type": "stream",
     "text": [
      "{'0': ['/data/zhangliang/dyrad/dyrad_processed_2/S83.tfrecord', '/data/zhangliang/dyrad/dyrad_processed_2/S07.tfrecord', '/data/zhangliang/dyrad/dyrad_processed_2/S79.tfrecord', '/data/zhangliang/dyrad/dyrad_processed_2/S21.tfrecord', '/data/zhangliang/dyrad/dyrad_processed_2/S15.tfrecord', '/data/zhangliang/dyrad/dyrad_processed_2/S50.tfrecord', '/data/zhangliang/dyrad/dyrad_processed_2/S92.tfrecord', '/data/zhangliang/dyrad/dyrad_processed_2/S55.tfrecord', '/data/zhangliang/dyrad/dyrad_processed_2/S76.tfrecord', '/data/zhangliang/dyrad/dyrad_processed_2/S32.tfrecord', '/data/zhangliang/dyrad/dyrad_processed_2/S96.tfrecord', '/data/zhangliang/dyrad/dyrad_processed_2/S18.tfrecord', '/data/zhangliang/dyrad/dyrad_processed_2/S46.tfrecord', '/data/zhangliang/dyrad/dyrad_processed_2/S62.tfrecord', '/data/zhangliang/dyrad/dyrad_processed_2/S80-.tfrecord', '/data/zhangliang/dyrad/dyrad_processed_2/S85.tfrecord', '/data/zhangliang/dyrad/dyrad_processed_2/S78.tfrecord', '/data/zhangliang/dyrad/dyrad_processed_2/S65.tfrecord', '/data/zhangliang/dyrad/dyrad_processed_2/S31.tfrecord', '/data/zhangliang/dyrad/dyrad_processed_2/S13.tfrecord'], '1': ['/data/zhangliang/dyrad/dyrad_processed_2/S68.tfrecord', '/data/zhangliang/dyrad/dyrad_processed_2/S01.tfrecord', '/data/zhangliang/dyrad/dyrad_processed_2/S72.tfrecord', '/data/zhangliang/dyrad/dyrad_processed_2/S45.tfrecord', '/data/zhangliang/dyrad/dyrad_processed_2/S25.tfrecord', '/data/zhangliang/dyrad/dyrad_processed_2/S93.tfrecord', '/data/zhangliang/dyrad/dyrad_processed_2/S42.tfrecord', '/data/zhangliang/dyrad/dyrad_processed_2/S88.tfrecord', '/data/zhangliang/dyrad/dyrad_processed_2/S08.tfrecord', '/data/zhangliang/dyrad/dyrad_processed_2/S10.tfrecord', '/data/zhangliang/dyrad/dyrad_processed_2/S95.tfrecord', '/data/zhangliang/dyrad/dyrad_processed_2/S44.tfrecord', '/data/zhangliang/dyrad/dyrad_processed_2/S100.tfrecord', '/data/zhangliang/dyrad/dyrad_processed_2/S60.tfrecord', '/data/zhangliang/dyrad/dyrad_processed_2/S56.tfrecord', '/data/zhangliang/dyrad/dyrad_processed_2/S30.tfrecord', '/data/zhangliang/dyrad/dyrad_processed_2/S52.tfrecord', '/data/zhangliang/dyrad/dyrad_processed_2/S66.tfrecord', '/data/zhangliang/dyrad/dyrad_processed_2/S58.tfrecord', '/data/zhangliang/dyrad/dyrad_processed_2/S82.tfrecord'], '2': ['/data/zhangliang/dyrad/dyrad_processed_2/S73.tfrecord', '/data/zhangliang/dyrad/dyrad_processed_2/S84.tfrecord', '/data/zhangliang/dyrad/dyrad_processed_2/S40.tfrecord', '/data/zhangliang/dyrad/dyrad_processed_2/S38.tfrecord', '/data/zhangliang/dyrad/dyrad_processed_2/S27.tfrecord', '/data/zhangliang/dyrad/dyrad_processed_2/S41.tfrecord', '/data/zhangliang/dyrad/dyrad_processed_2/S61.tfrecord', '/data/zhangliang/dyrad/dyrad_processed_2/S19.tfrecord', '/data/zhangliang/dyrad/dyrad_processed_2/S05.tfrecord', '/data/zhangliang/dyrad/dyrad_processed_2/S59.tfrecord', '/data/zhangliang/dyrad/dyrad_processed_2/S17.tfrecord', '/data/zhangliang/dyrad/dyrad_processed_2/S14.tfrecord', '/data/zhangliang/dyrad/dyrad_processed_2/S98.tfrecord', '/data/zhangliang/dyrad/dyrad_processed_2/S39.tfrecord', '/data/zhangliang/dyrad/dyrad_processed_2/S91.tfrecord', '/data/zhangliang/dyrad/dyrad_processed_2/S53.tfrecord', '/data/zhangliang/dyrad/dyrad_processed_2/S81.tfrecord', '/data/zhangliang/dyrad/dyrad_processed_2/S71.tfrecord', '/data/zhangliang/dyrad/dyrad_processed_2/S37.tfrecord', '/data/zhangliang/dyrad/dyrad_processed_2/S47.tfrecord'], '3': ['/data/zhangliang/dyrad/dyrad_processed_2/S43.tfrecord', '/data/zhangliang/dyrad/dyrad_processed_2/S20.tfrecord', '/data/zhangliang/dyrad/dyrad_processed_2/S33.tfrecord', '/data/zhangliang/dyrad/dyrad_processed_2/S69.tfrecord', '/data/zhangliang/dyrad/dyrad_processed_2/S03.tfrecord', '/data/zhangliang/dyrad/dyrad_processed_2/S36.tfrecord', '/data/zhangliang/dyrad/dyrad_processed_2/S74.tfrecord', '/data/zhangliang/dyrad/dyrad_processed_2/S11.tfrecord', '/data/zhangliang/dyrad/dyrad_processed_2/S57.tfrecord', '/data/zhangliang/dyrad/dyrad_processed_2/S77.tfrecord', '/data/zhangliang/dyrad/dyrad_processed_2/S54.tfrecord', '/data/zhangliang/dyrad/dyrad_processed_2/S86.tfrecord', '/data/zhangliang/dyrad/dyrad_processed_2/S09.tfrecord', '/data/zhangliang/dyrad/dyrad_processed_2/S35.tfrecord', '/data/zhangliang/dyrad/dyrad_processed_2/S06.tfrecord', '/data/zhangliang/dyrad/dyrad_processed_2/S87.tfrecord', '/data/zhangliang/dyrad/dyrad_processed_2/S89.tfrecord', '/data/zhangliang/dyrad/dyrad_processed_2/S02.tfrecord', '/data/zhangliang/dyrad/dyrad_processed_2/S67.tfrecord', '/data/zhangliang/dyrad/dyrad_processed_2/S22.tfrecord'], '4': ['/data/zhangliang/dyrad/dyrad_processed_2/S04.tfrecord', '/data/zhangliang/dyrad/dyrad_processed_2/S16.tfrecord', '/data/zhangliang/dyrad/dyrad_processed_2/S64.tfrecord', '/data/zhangliang/dyrad/dyrad_processed_2/S99.tfrecord', '/data/zhangliang/dyrad/dyrad_processed_2/S24.tfrecord', '/data/zhangliang/dyrad/dyrad_processed_2/S51.tfrecord', '/data/zhangliang/dyrad/dyrad_processed_2/S63.tfrecord', '/data/zhangliang/dyrad/dyrad_processed_2/S28.tfrecord', '/data/zhangliang/dyrad/dyrad_processed_2/S97.tfrecord', '/data/zhangliang/dyrad/dyrad_processed_2/S26.tfrecord', '/data/zhangliang/dyrad/dyrad_processed_2/S12.tfrecord', '/data/zhangliang/dyrad/dyrad_processed_2/S70.tfrecord', '/data/zhangliang/dyrad/dyrad_processed_2/S29.tfrecord', '/data/zhangliang/dyrad/dyrad_processed_2/S75.tfrecord', '/data/zhangliang/dyrad/dyrad_processed_2/S49.tfrecord', '/data/zhangliang/dyrad/dyrad_processed_2/S34.tfrecord', '/data/zhangliang/dyrad/dyrad_processed_2/S94.tfrecord', '/data/zhangliang/dyrad/dyrad_processed_2/S90.tfrecord', '/data/zhangliang/dyrad/dyrad_processed_2/S48.tfrecord', '/data/zhangliang/dyrad/dyrad_processed_2/S23.tfrecord']}\n"
     ]
    }
   ],
   "source": [
    "import json \n",
    "json_path = \"/home/zhangliang/zl_code/V2IED/cross_data.json\"\n",
    "with open(json_path,'r') as f:\n",
    "    json_data = json.load(f)\n",
    "new_json_data = {}\n",
    "replace_str_ = \"/data/zhangliang/dyrad/dyrad_processed/\"\n",
    "replace_str = \"/data/zhangliang/dyrad/dyrad_processed_2/\"\n",
    "for key,values in json_data.items():\n",
    "    new_values = []\n",
    "    for value in values:\n",
    "        new_value = value.replace(replace_str_,replace_str)\n",
    "        new_values.append(new_value)\n",
    "    new_json_data[key] = new_values\n",
    "print(new_json_data)"
   ]
  },
  {
   "cell_type": "code",
   "execution_count": 2,
   "metadata": {},
   "outputs": [],
   "source": [
    "with open(json_path,'w') as f:\n",
    "    json.dump(new_json_data,f)"
   ]
  },
  {
   "cell_type": "code",
   "execution_count": null,
   "metadata": {},
   "outputs": [],
   "source": []
  }
 ],
 "metadata": {
  "kernelspec": {
   "display_name": "zl_py38",
   "language": "python",
   "name": "python3"
  },
  "language_info": {
   "codemirror_mode": {
    "name": "ipython",
    "version": 3
   },
   "file_extension": ".py",
   "mimetype": "text/x-python",
   "name": "python",
   "nbconvert_exporter": "python",
   "pygments_lexer": "ipython3",
   "version": "3.7.16"
  }
 },
 "nbformat": 4,
 "nbformat_minor": 2
}
